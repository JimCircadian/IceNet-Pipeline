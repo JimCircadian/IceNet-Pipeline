{
 "cells": [
  {
   "cell_type": "markdown",
   "metadata": {},
   "source": [
    "# [Modelling target]\n",
    "\n",
    ":::{eval-rst}\n",
    ":opticon:`tag`\n",
    ":badge:`[Environment],badge-primary`\n",
    ":badge:`Modelling,badge-secondary`\n",
    ":::\n",
    "\n",
    "## Context\n",
    "### Purpose\n",
    "*Describe the purpose of the use case.*\n",
    "\n",
    "### Modelling approach\n",
    "*Describe the most relevant features of the modelling approach.*\n",
    "\n",
    "### Highlights\n",
    "*Provide 3-5 bullet points that convey the use case’s core procedures. Each bullet point must have a maximum of 85 characters, including spaces.*\n",
    "* Highlight 1\n",
    "* Highlight 2\n",
    "\n",
    "### Contributions\n",
    "#### Notebook\n",
    "Author (role), Affiliation, GitHub alias\n",
    "\n",
    "#### Modelling codebase\n",
    "Author (role), Affiliation, GitHub alias\n",
    "\n",
    "#### Modelling publications\n",
    "```{bibliography}\n",
    "  :style: plain\n",
    "  :list: bullet\n",
    "  :filter: topic % \"replace by the `topic` entry linked to the publication(s) in the `_bibliography/references.bib` file\"\n",
    "```\n",
    "\n",
    "#### Modelling funding\n",
    "Indicate details of funding.\n",
    "\n",
    ":::{note}\n",
    "*Optional: add credits or acknowledgements to data providers or authors of code snippets*\n",
    ":::"
   ]
  },
  {
   "cell_type": "markdown",
   "metadata": {
    "pycharm": {
     "name": "#%% md\n"
    }
   },
   "source": [
    "## Install and load libraries"
   ]
  },
  {
   "cell_type": "markdown",
   "metadata": {
    "pycharm": {
     "name": "#%% md\n"
    }
   },
   "source": [
    "## Load data"
   ]
  },
  {
   "cell_type": "markdown",
   "metadata": {
    "pycharm": {
     "name": "#%% md\n"
    }
   },
   "source": [
    "```python\n",
    "import logging\n",
    "logging.basicConfig(level=logging.INFO)\n",
    "from icenet2.data.interfaces.cds import ERA5Downloader\n",
    "era5 = ERA5Downloader(\n",
    "    var_names=[\"tos\"],\n",
    "    pressure_levels=[None],\n",
    "    dates=[pd.to_datetime(date).date() for date in\n",
    "           pd.date_range(\"1990-1-1\", \"1990-1-31\",\n",
    "                         freq=\"D\")],\n",
    "    delete_tempfiles=False,\n",
    "    max_threads=1,\n",
    "    north=False,\n",
    "    south=True,\n",
    "    use_toolbox=True\n",
    ")\n",
    "era5.download()\n",
    "era5.regrid()\n",
    "era5.rotate_wind_data()\n",
    "```"
   ]
  },
  {
   "cell_type": "markdown",
   "metadata": {},
   "source": [
    "## Outputs"
   ]
  },
  {
   "cell_type": "markdown",
   "metadata": {},
   "source": [
    "## Summary"
   ]
  },
  {
   "cell_type": "markdown",
   "metadata": {},
   "source": [
    "## Version\n",
    "- Notebook:\n",
    "- Codebase:"
   ]
  }
 ],
 "metadata": {
  "kernelspec": {
   "display_name": "Python 3 (ipykernel)",
   "language": "python",
   "name": "python3"
  },
  "language_info": {
   "codemirror_mode": {
    "name": "ipython",
    "version": 3
   },
   "file_extension": ".py",
   "mimetype": "text/x-python",
   "name": "python",
   "nbconvert_exporter": "python",
   "pygments_lexer": "ipython3",
   "version": "3.8.0"
  },
  "widgets": {
   "application/vnd.jupyter.widget-state+json": {
    "state": {},
    "version_major": 2,
    "version_minor": 0
   }
  }
 },
 "nbformat": 4,
 "nbformat_minor": 4
}
