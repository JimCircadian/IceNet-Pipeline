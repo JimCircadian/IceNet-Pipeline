{
 "cells": [
  {
   "cell_type": "code",
   "execution_count": 3,
   "metadata": {},
   "outputs": [],
   "source": [
    "# Quick hack to put us in the root of the repository/pipeline directory\n",
    "import os\n",
    "if os.path.exists(\"02.data_and_forecasts.ipynb\"):\n",
    "    os.chdir(\"..\")"
   ]
  },
  {
   "cell_type": "markdown",
   "metadata": {},
   "source": [
    "# IceNet Data Analysis\n",
    "\n",
    "## Context\n",
    "\n",
    "### Purpose\n",
    "The IceNet library provides the ability to download, process, train and predict from end to end via a set of command-line interfaces.\n",
    "\n",
    "Using this notebook one can understand the various data sources, intermediaries and products that arise from the [CLI demonstrator notebook](01.cli_demonstration.ipynb) activities.\n",
    "\n",
    "### Modelling approach\n",
    "This modelling approach allows users to immediately utilise the library for producing sea ice concentraion forecasts.\n",
    "\n",
    "### Highlights\n",
    "The key features of an end to end run are: \n",
    "* Setup: _this was concerned with setting up the conda environment, which remains the same_\n",
    "* [Download](#Download) \n",
    "* [Process](#Process)\n",
    "* [Train](#Train)\n",
    "* [Predict](#Predict)\n",
    "\n",
    "_This follows the same structure as the CLI demonstration notebook so that it's easy to follow step-by-step..._\n",
    "\n",
    "### Contributions\n",
    "#### Notebook\n",
    "James Byrne (author)\n",
    "\n",
    "__Please raise issues [in this repository](https://github.com/antarctica/IceNet-Pipeline) to suggest updates to this notebook!__ \n",
    "\n",
    "Contact me at _jambyr \\<at\\> bas.ac.uk_ for anything else...\n",
    "\n",
    "#### Modelling codebase\n",
    "James Byrne (code author), Tom Andersson (science author)\n",
    "\n",
    "#### Modelling publications\n",
    "Andersson, T.R., Hosking, J.S., Pérez-Ortiz, M. et al. Seasonal Arctic sea ice forecasting with probabilistic deep learning. Nat Commun 12, 5124 (2021). https://doi.org/10.1038/s41467-021-25257-4\n",
    "\n",
    "#### Involved organisations\n",
    "The Alan Turing Institute and British Antarctic Survey"
   ]
  },
  {
   "cell_type": "markdown",
   "metadata": {},
   "source": [
    "## Setup\n",
    "\n",
    "For the purposes of python analysis we use and provide the following header libraries which are heavily utilised within the IceNet project and the pipeline."
   ]
  },
  {
   "cell_type": "code",
   "execution_count": 6,
   "metadata": {},
   "outputs": [],
   "source": [
    "import glob, os, sys\n",
    "import numpy as np, pandas as pd, xarray as xr"
   ]
  },
  {
   "cell_type": "markdown",
   "metadata": {},
   "source": [
    "## Download\n",
    "\n",
    "Downloading data using the icenet_data commands produces a dataset specific input data storage directory called `/data` whose source data can be reused across normalisation (`icenet_process*`) and dataset production (`icenet_dataset*`) runs."
   ]
  },
  {
   "cell_type": "code",
   "execution_count": 8,
   "metadata": {},
   "outputs": [
    {
     "data": {
      "text/plain": [
       "['osisaf', 'era5', 'mars.hres', 'masks']"
      ]
     },
     "execution_count": 8,
     "metadata": {},
     "output_type": "execute_result"
    }
   ],
   "source": [
    "os.listdir(\"data\")"
   ]
  },
  {
   "cell_type": "markdown",
   "metadata": {},
   "source": [
    "The structure of these directories (aside from masks) have consistent layouts:"
   ]
  },
  {
   "cell_type": "code",
   "execution_count": 9,
   "metadata": {},
   "outputs": [
    {
     "name": "stdout",
     "output_type": "stream",
     "text": [
      "data/era5\n",
      "data/era5/sh\n",
      "data/era5/sh/tas\n",
      "data/era5/sh/tas/1990\n",
      "data/era5/sh/tas/1991\n",
      "data/era5/sh/tas/1992\n",
      "data/era5/sh/tas/1993\n",
      "data/era5/sh/tas/1994\n",
      "data/era5/sh/tas/1995\n",
      "data/era5/sh/tas/1996\n",
      "data/era5/sh/tas/1997\n",
      "data/era5/sh/tas/1998\n",
      "data/era5/sh/tas/1999\n",
      "data/era5/sh/tas/2021\n",
      "data/era5/sh/tas/2000\n",
      "data/era5/sh/tas/2001\n",
      "data/era5/sh/tas/2002\n",
      "data/era5/sh/tas/2003\n",
      "data/era5/sh/tas/2004\n",
      "data/era5/sh/tas/2005\n",
      "data/era5/sh/tas/2006\n",
      "data/era5/sh/tas/2007\n",
      "data/era5/sh/tas/2008\n",
      "data/era5/sh/tas/2009\n",
      "data/era5/sh/tas/1979\n",
      "data/era5/sh/tas/1980\n",
      "data/era5/sh/tas/1981\n",
      "data/era5/sh/tas/1982\n",
      "data/era5/sh/tas/1983\n",
      "data/era5/sh/tas/1984\n",
      "data/era5/sh/tas/1985\n",
      "data/era5/sh/tas/1986\n",
      "data/era5/sh/tas/1987\n",
      "data/era5/sh/tas/1988\n",
      "data/era5/sh/tas/1989\n",
      "data/era5/sh/tas/2010\n",
      "data/era5/sh/tas/2011\n",
      "data/era5/sh/tas/2012\n",
      "data/era5/sh/tas/2013\n",
      "data/era5/sh/tas/2014\n",
      "data/era5/sh/tas/2015\n",
      "data/era5/sh/tas/2016\n",
      "^C\n"
     ]
    }
   ],
   "source": [
    "!find data/era5 -maxdepth 3 -type d\n",
    "!ls -l /data/era5/sh/tas"
   ]
  },
  {
   "cell_type": "code",
   "execution_count": null,
   "metadata": {},
   "outputs": [],
   "source": []
  },
  {
   "cell_type": "code",
   "execution_count": null,
   "metadata": {},
   "outputs": [],
   "source": [
    "## Process"
   ]
  },
  {
   "cell_type": "code",
   "execution_count": null,
   "metadata": {},
   "outputs": [],
   "source": []
  },
  {
   "cell_type": "code",
   "execution_count": null,
   "metadata": {},
   "outputs": [],
   "source": [
    "## Train"
   ]
  },
  {
   "cell_type": "code",
   "execution_count": null,
   "metadata": {},
   "outputs": [],
   "source": []
  },
  {
   "cell_type": "code",
   "execution_count": null,
   "metadata": {},
   "outputs": [],
   "source": [
    "## Predict"
   ]
  },
  {
   "cell_type": "code",
   "execution_count": null,
   "metadata": {},
   "outputs": [],
   "source": []
  },
  {
   "cell_type": "code",
   "execution_count": null,
   "metadata": {},
   "outputs": [],
   "source": []
  },
  {
   "cell_type": "code",
   "execution_count": null,
   "metadata": {},
   "outputs": [],
   "source": []
  },
  {
   "cell_type": "code",
   "execution_count": 1,
   "metadata": {},
   "outputs": [],
   "source": [
    "## Random stuff"
   ]
  },
  {
   "cell_type": "markdown",
   "metadata": {},
   "source": [
    "```python\n",
    "from dask.distributed import Client\n",
    "dfs = glob.glob(\"data/era5/sh/tos/**/19*.nc\") + glob.glob(\"data/era5/sh/tos/**/20*.nc\")\n",
    "client = Client()\n",
    "ds = xr.open_mfdataset(dfs, combine=\"nested\", concat_dim=\"time\", parallel=True)\n",
    "a = ds.groupby(\"time.year\").max(\"time\").max((\"yc\", \"xc\"))\n",
    "m = a.compute()\n",
    "    \n",
    "for DAME in $( find . -name '199*' -a -type f ); do NEWNAME=`echo \"$DAME\" | sed -r 's#(\\/)(....\\_)#\\1max_\\2#'`; echo mv $DAME $NEWNAME; done\n",
    "```"
   ]
  },
  {
   "cell_type": "markdown",
   "metadata": {
    "pycharm": {
     "name": "#%% md\n"
    }
   },
   "source": [
    "\n",
    "## Plotting a forecast\n",
    "\n",
    "TODO: convert\n",
    "\n",
    "```python\n",
    "from icenet2.plotting.video import xarray_to_video as xv\n",
    "import xarray as xr\n",
    "ds = xr.open_dataset(\"south_daily_forecast.nc\")\n",
    "fc = ds.sic_mean.isel(time=0).drop_vars(\"time\").rename(dict(leadtime=\"time\"))\n",
    "fc['time'] = [dt.datetime(2022,1,3) + dt.timedelta(days=int(e)) for e in fc.time.values]\n",
    "xv(fc, 15, \"south_daily_forecast.mp4\")\n",
    "```\n"
   ]
  },
  {
   "cell_type": "markdown",
   "metadata": {
    "pycharm": {
     "name": "#%% md\n"
    }
   },
   "source": []
  },
  {
   "cell_type": "markdown",
   "metadata": {
    "pycharm": {
     "name": "#%% md\n"
    }
   },
   "source": [
    "## Video processing of datasets\n",
    "\n",
    "```bash\n",
    "icenet_video_data -w 4 -v osisaf\n",
    "icenet_video_data -w 4 -n -sy -p processed/north_10 -v era5,osisaf\n",
    "```"
   ]
  },
  {
   "cell_type": "markdown",
   "metadata": {},
   "source": []
  },
  {
   "cell_type": "markdown",
   "metadata": {},
   "source": [
    "```\n",
    "import glob, os, xarray as xr\n",
    "\n",
    "for vn in (\"zg250\", \"zg500\", \"tos\"):\n",
    "    dfs = glob.glob(\"data/era5/sh/{}/**/19*.nc\".format(vn)) + glob.glob(\"data/era5/sh/{}/**/20*.nc\".format(vn))\n",
    "    for y in range(1979, 2020):\n",
    "        ds = [d for d in dfs if os.path.basename(d).startswith(str(y))]\n",
    "        print(\"{} {} {} files\".format(vn, str(y), len(ds)))\n",
    "        if len(ds) > 0:\n",
    "            ds2 = xr.open_mfdataset(ds, parallel=True)\n",
    "            k = list(ds2.data_vars)[0]\n",
    "            d_min, d_max = getattr(ds2, k).min(), getattr(ds2, k).max()\n",
    "            print(\"\\t\\t\\t{} {} {:.2f} {:.2f}\".format(y, k, float(d_min.compute()), float(d_max.compute())))\n",
    "    \n",
    "    \n",
    "```"
   ]
  },
  {
   "cell_type": "markdown",
   "metadata": {},
   "source": [
    "## Version\n",
    "- Notebook:\n",
    "- Codebase:"
   ]
  },
  {
   "cell_type": "code",
   "execution_count": null,
   "metadata": {},
   "outputs": [],
   "source": []
  }
 ],
 "metadata": {
  "kernelspec": {
   "display_name": "Python 3",
   "language": "python",
   "name": "python3"
  },
  "language_info": {
   "codemirror_mode": {
    "name": "ipython",
    "version": 3
   },
   "file_extension": ".py",
   "mimetype": "text/x-python",
   "name": "python",
   "nbconvert_exporter": "python",
   "pygments_lexer": "ipython3",
   "version": "3.7.6"
  },
  "widgets": {
   "application/vnd.jupyter.widget-state+json": {
    "state": {},
    "version_major": 2,
    "version_minor": 0
   }
  }
 },
 "nbformat": 4,
 "nbformat_minor": 4
}
